{
 "cells": [
  {
   "cell_type": "markdown",
   "id": "a04baa14-d085-433e-b3b3-eb78354064fd",
   "metadata": {
    "jp-MarkdownHeadingCollapsed": true
   },
   "source": [
    "# Code documentation"
   ]
  },
  {
   "cell_type": "markdown",
   "id": "b2a4188a-09a3-4cd6-a0dd-9da036a6fd30",
   "metadata": {},
   "source": [
    "# diffusion.py"
   ]
  },
  {
   "cell_type": "markdown",
   "id": "7bc43c25-5d6e-47a6-88d8-244abad4c539",
   "metadata": {},
   "source": [
    "<details>\n",
    "<summary><code>forward_sde</code> Class Documentation</summary>\n",
    "\n",
    "```python\n",
    "import torch\n",
    "class forward_sde: \n",
    "    def __init__(self, dimension, final_time, sigma_infty, device=torch.device('cpu')):\n",
    "\n",
    "        self.d = dimension\n",
    "        self.final_time = final_time\n",
    "        self.sigma_infty = sigma_infty\n",
    "        self.device = device\n",
    "        self.final = gaussian(dimension, \n",
    "                              torch.zeros(dimension, device = device), \n",
    "                              self.sigma_infty**2 * torch.eye(dimension, device = device))\n",
    "    def to(self, device):\n",
    "        self.device = device\n",
    "        self.final = self.final.to(device)\n",
    "```\n",
    "\n",
    "The `forward_sde` class is a general class to implement stochastic differential equations (SDEs) and serves as a foundation for specific forward SDE implementations like the Ornstein-Uhlenbeck also called Variance-Preserving process (VPSDE) or the scaled Brownian motion also called Variance-Exploding process (VESDE).\n",
    "### Attributes:\n",
    "\n",
    "| Attribute       | Type           | Description                                                                                         |\n",
    "|-----------------|----------------|-----------------------------------------------------------------------------------------------------|\n",
    "| `d`            | `int`          | Dimension of the state space.                                        |\n",
    "| `final_time`   | `float`        | Diffusion time $T$ of the SDE.                                       |\n",
    "| `sigma_infty`  | `float`        | Asymptotic standard deviation. |\n",
    "| `device`       | `torch.device`       | Computational device (e.g., `'cpu'` or `'cuda'`).                           |\n",
    "\n",
    "\n",
    "### Methods:\n",
    "\n",
    "#### `__init__(self, dimension, final_time, sigma_infty, device=torch.device('cpu'))`\n",
    "\n",
    "Initializes the `forward_sde` class.\n",
    "\n",
    "#### `to(self, device)`\n",
    "\n",
    "Transfers the object to the specified computational device.\n",
    "\n",
    "---"
   ]
  },
  {
   "cell_type": "code",
   "execution_count": 6,
   "id": "220bbd8a-bdd2-4c5f-96b8-9b298de4943f",
   "metadata": {},
   "outputs": [],
   "source": [
    "class beta_parametric:\n",
    "    def __init__(self, a, final_time, beta_min, beta_max):\n",
    "        self.a = a\n",
    "        self.final_time = final_time\n",
    "        self.beta_min = beta_min\n",
    "        self.beta_max = beta_max\n",
    "        if a == 0:\n",
    "            self.delta = (beta_max - beta_min) / final_time\n",
    "        else: \n",
    "            self.delta = (beta_max - beta_min) / (math.exp(self.a * final_time) - 1.)\n",
    "    def __call__(self, t):\n",
    "        if np.abs(self.a) < 1e-3: #for numerical stability\n",
    "            return self.beta_min + self.delta * t\n",
    "        else:\n",
    "            return self.beta_min + self.delta * (torch.exp(self.a*t) - 1.)\n",
    "    def integrate(self, t): \n",
    "        if np.abs(self.a) < 1e-3:\n",
    "            return self.beta_min * t + 0.5 * self.delta * t**2\n",
    "        else:\n",
    "            return self.beta_min * t + self.delta * ((torch.exp(self.a*t)-1)/self.a - t)\n",
    "    def square_integrate(self,t):\n",
    "        if np.abs(self.a) < 1e-3:\n",
    "            return self.beta_min**2 * t +  self.beta_min * self.delta * t**2 + (1./3) * self.delta**2 * t**3  #modified\n",
    "        else:\n",
    "            res = self.beta_min**2 * t + 2*self.beta_min*self.delta*(torch.exp(self.a*t) / self.a - t) \n",
    "            res += (self.delta)**2 * ( (torch.exp(2*self.a*t))/(2* self.a) - 2* (torch.exp(self.a*t))/(self.a) + t)\n",
    "            res -= (2* self.beta_min * self.delta /self.a - self.delta**2 *(3/2)*(1/self.a))\n",
    "            return res  \n",
    "    def change_a(self, a): \n",
    "        self.a = a \n",
    "        if np.abs(self.a) < 1e-3: \n",
    "            self.delta = (self.beta_max - self.beta_min) / self.final_time \n",
    "        else:\n",
    "            self.delta = (self.beta_max - self.beta_min) / (math.exp(self.a * self.final_time) - 1.)"
   ]
  }
 ],
 "metadata": {
  "kernelspec": {
   "display_name": "Python 3 (ipykernel)",
   "language": "python",
   "name": "python3"
  },
  "language_info": {
   "codemirror_mode": {
    "name": "ipython",
    "version": 3
   },
   "file_extension": ".py",
   "mimetype": "text/x-python",
   "name": "python",
   "nbconvert_exporter": "python",
   "pygments_lexer": "ipython3",
   "version": "3.9.6"
  }
 },
 "nbformat": 4,
 "nbformat_minor": 5
}
